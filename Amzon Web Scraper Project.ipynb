{
 "cells": [
  {
   "cell_type": "code",
   "execution_count": 29,
   "id": "a5039cd4",
   "metadata": {},
   "outputs": [],
   "source": [
    "# import libraries\n",
    "from bs4 import BeautifulSoup\n",
    "import requests\n",
    "import time\n",
    "import datetime\n",
    "import pandas as pd\n",
    "\n",
    "import smtplib"
   ]
  },
  {
   "cell_type": "code",
   "execution_count": 36,
   "id": "0f2e582f",
   "metadata": {},
   "outputs": [
    {
     "name": "stdout",
     "output_type": "stream",
     "text": [
      "DKNY Women's Colorblock T-Shirt Dress\n",
      "\n",
      "\n",
      "\n",
      "\n",
      "\n",
      "                  S$99.94\n",
      "                 \n",
      "\n",
      "\n",
      "                   S$\n",
      "                  \n",
      "\n",
      "                   99\n",
      "                   \n",
      "                    .\n",
      "                   \n",
      "\n",
      "\n",
      "                   94\n",
      "                  \n",
      "\n",
      "\n",
      "\n",
      "\n",
      "\n",
      "\n",
      "\n",
      "\n",
      "\n",
      "\n",
      "\n",
      "\n",
      "\n",
      "                  Brand: DKNY\n",
      "                 \n"
     ]
    }
   ],
   "source": [
    "# connect to the website\n",
    "URL = 'https://www.amazon.sg/DKNY-Womens-Colorblock-T-Shirt-Dress/dp/B08QMV4ZJ1/ref=sr_1_13?crid=3K7T1XO6KUV20&keywords=dresses+for+women&qid=1674112874&sprefix=dress%2Caps%2C322&sr=8-13'\n",
    "\n",
    "headers = {\"User-Agent\": \"Mozilla/5.0 (Macintosh; Intel Mac OS X 10_15_7) AppleWebKit/537.36 (KHTML, like Gecko) Chrome/108.0.0.0 Safari/537.36\", \"Accept-Encoding\":\"gzip, deflate\", \"Accept\":\"text/html,application/xhtml+xml,application/xml;q=0.9,*/*;q=0.8\", \"DNT\":\"1\",\"Connection\":\"close\", \"Upgrade-Insecure-Requests\":\"1\"}\n",
    "\n",
    "page = requests.get(URL, headers=headers)\n",
    "\n",
    "soup1 = BeautifulSoup(page.content, \"html.parser\")\n",
    "#print(soup1)\n",
    "\n",
    "soup2 = BeautifulSoup(soup1.prettify(), \"html.parser\")\n",
    "#print(soup2)\n",
    "\n",
    "product = soup2.find(id='productTitle').get_text()\n",
    "print(title)\n",
    "\n",
    "price = soup2.find(id='corePriceDisplay_desktop_feature_div').get_text()\n",
    "print(price)\n",
    "\n",
    "brand = soup2.find(id='bylineInfo').get_text()\n",
    "print(brand)"
   ]
  },
  {
   "cell_type": "code",
   "execution_count": 37,
   "id": "7d4f3a3b",
   "metadata": {},
   "outputs": [
    {
     "name": "stdout",
     "output_type": "stream",
     "text": [
      "99.94\n",
      "DKNY Women's Colorblock T-Shirt Dress\n",
      "Brand: DKNY\n"
     ]
    }
   ],
   "source": [
    "price = price.strip()[2:7]\n",
    "product = product.strip()\n",
    "brand = brand.strip()\n",
    "print(price)\n",
    "print(product)\n",
    "print(brand)"
   ]
  },
  {
   "cell_type": "code",
   "execution_count": 38,
   "id": "608dece7",
   "metadata": {},
   "outputs": [
    {
     "data": {
      "text/plain": [
       "str"
      ]
     },
     "execution_count": 38,
     "metadata": {},
     "output_type": "execute_result"
    }
   ],
   "source": [
    "type(price)"
   ]
  },
  {
   "cell_type": "code",
   "execution_count": 39,
   "id": "c2d92858",
   "metadata": {},
   "outputs": [
    {
     "name": "stdout",
     "output_type": "stream",
     "text": [
      "2023-01-19\n"
     ]
    }
   ],
   "source": [
    "import datetime\n",
    "today = datetime.date.today()\n",
    "print(today)"
   ]
  },
  {
   "cell_type": "code",
   "execution_count": 40,
   "id": "0df4ded5",
   "metadata": {},
   "outputs": [],
   "source": [
    "import csv\n",
    "header = ['Product', 'brand', 'Price', 'Date']\n",
    "data = [product, brand, price, today]\n",
    "type(data)\n",
    "with open('AmazonWebScraperDataset.csv', 'w', newline = '', encoding = 'UTF8')as f:\n",
    "    writer = csv.writer(f)\n",
    "    writer.writerow(header)\n",
    "    writer.writerow(data)"
   ]
  },
  {
   "cell_type": "code",
   "execution_count": 44,
   "id": "a96ac4f9",
   "metadata": {},
   "outputs": [
    {
     "name": "stdout",
     "output_type": "stream",
     "text": [
      "                                 Product        brand  Price        Date\n",
      "0  DKNY Women's Colorblock T-Shirt Dress  Brand: DKNY  99.94  2023-01-19\n",
      "1  DKNY Women's Colorblock T-Shirt Dress  Brand: DKNY  99.94  2023-01-19\n",
      "2  DKNY Women's Colorblock T-Shirt Dress  Brand: DKNY  99.94  2023-01-19\n"
     ]
    }
   ],
   "source": [
    "df = pd.read_csv(r'/Users/shafanzheng/Downloads/求职/2023秋招/简历/简历解释材料/DAprojects/project5/AmazonWebScraperDataset.csv')\n",
    "print(df)"
   ]
  },
  {
   "cell_type": "code",
   "execution_count": 43,
   "id": "8ad1898e",
   "metadata": {},
   "outputs": [],
   "source": [
    "# Appending data to this csv.\n",
    "with open('AmazonWebScraperDataset.csv', 'a+', newline = '', encoding = 'UTF8')as f:\n",
    "    writer = csv.writer(f)\n",
    "    writer.writerow(data)"
   ]
  },
  {
   "cell_type": "code",
   "execution_count": null,
   "id": "29a7ecc1",
   "metadata": {},
   "outputs": [],
   "source": [
    "# If uou want to try sending yourself an email (just for fun) when a price hits below a certain level you can try it\n",
    "# out with this script\n",
    "\n",
    "def send_mail():\n",
    "    server = smtplib.SMTP_SSL('smtp.gmail.com',465)\n",
    "    server.ehlo()\n",
    "    #server.starttls()\n",
    "    server.ehlo()\n",
    "    server.login('zsfgryx@gmail.com','xxxxxxxxxxxxxx')\n",
    "    \n",
    "    subject = \"The Dress you want is below $90! Now is your chance to buy!\"\n",
    "    body = \"Shafan, This is the moment we have been waiting for. Now is your chance to pick up the dress of your dreams. Don't mess it up! Link here: https://www.amazon.sg/DKNY-Womens-Colorblock-T-Shirt-Dress/dp/B08QMV4ZJ1/ref=sr_1_13?crid=3K7T1XO6KUV20&keywords=dresses%2Bfor%2Bwomen&qid=1674112874&sprefix=dress%2Caps%2C322&sr=8-13&th=1&psc=1\"\n",
    "   \n",
    "    msg = f\"Subject: {subject}\\n\\n{body}\"\n",
    "    \n",
    "    server.sendmail(\n",
    "        'zsfgryx@gmail.com',\n",
    "        msg\n",
    "     \n",
    "    )"
   ]
  },
  {
   "cell_type": "code",
   "execution_count": 45,
   "id": "f99a943d",
   "metadata": {},
   "outputs": [],
   "source": [
    "# Appending data automatically.\n",
    "def check_price():\n",
    "    URL = 'https://www.amazon.sg/DKNY-Womens-Colorblock-T-Shirt-Dress/dp/B08QMV4ZJ1/ref=sr_1_13?crid=3K7T1XO6KUV20&keywords=dresses+for+women&qid=1674112874&sprefix=dress%2Caps%2C322&sr=8-13'\n",
    "    headers = {\"User-Agent\": \"Mozilla/5.0 (Macintosh; Intel Mac OS X 10_15_7) AppleWebKit/537.36 (KHTML, like Gecko) Chrome/108.0.0.0 Safari/537.36\", \"Accept-Encoding\":\"gzip, deflate\", \"Accept\":\"text/html,application/xhtml+xml,application/xml;q=0.9,*/*;q=0.8\", \"DNT\":\"1\",\"Connection\":\"close\", \"Upgrade-Insecure-Requests\":\"1\"}\n",
    "    page = requests.get(URL, headers=headers)\n",
    "    soup1 = BeautifulSoup(page.content, \"html.parser\")\n",
    "    soup2 = BeautifulSoup(soup1.prettify(), \"html.parser\")\n",
    "\n",
    "    product = soup2.find(id='productTitle').get_text()\n",
    "    price = soup2.find(id='corePriceDisplay_desktop_feature_div').get_text()\n",
    "    brand = soup2.find(id='bylineInfo').get_text()\n",
    "    \n",
    "    price = price.strip()[2:7]\n",
    "    product = product.strip()\n",
    "    brand = brand.strip()\n",
    "    \n",
    "    import datetime\n",
    "    today = datetime.date.today()\n",
    "    \n",
    "    import csv\n",
    "    header = ['Product', 'brand', 'Price', 'Date']\n",
    "    data = [product, brand, price, today]\n",
    "    \n",
    "    with open('AmazonWebScraperDataset.csv', 'a+', newline = '', encoding = 'UTF8')as f:\n",
    "        writer = csv.writer(f)\n",
    "        writer.writerow(data)\n",
    "        \n",
    "    if (price < 90):\n",
    "        send_mail()"
   ]
  },
  {
   "cell_type": "code",
   "execution_count": null,
   "id": "1e3740ed",
   "metadata": {},
   "outputs": [],
   "source": [
    "while(True):\n",
    "    check_price()\n",
    "    time.sleep(86400)\n",
    "\n",
    "df = pd.read_csv(r'/Users/shafanzheng/Downloads/求职/2023秋招/简历/简历解释材料/DAprojects/project5/AmazonWebScraperDataset.csv')\n",
    "print(df)"
   ]
  }
 ],
 "metadata": {
  "kernelspec": {
   "display_name": "Python 3 (ipykernel)",
   "language": "python",
   "name": "python3"
  },
  "language_info": {
   "codemirror_mode": {
    "name": "ipython",
    "version": 3
   },
   "file_extension": ".py",
   "mimetype": "text/x-python",
   "name": "python",
   "nbconvert_exporter": "python",
   "pygments_lexer": "ipython3",
   "version": "3.9.7"
  }
 },
 "nbformat": 4,
 "nbformat_minor": 5
}
